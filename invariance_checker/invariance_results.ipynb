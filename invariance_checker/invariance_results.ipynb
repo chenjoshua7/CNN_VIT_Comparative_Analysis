{
 "cells": [
  {
   "cell_type": "code",
   "execution_count": 1,
   "metadata": {},
   "outputs": [],
   "source": [
    "import tensorflow as tf\n",
    "import os\n",
    "\n",
    "from keras_invariance_checker import InvarianceCheckerKeras\n",
    "from pytorch_invariance_checker import InvarianceCheckerPytorch"
   ]
  },
  {
   "cell_type": "code",
   "execution_count": 10,
   "metadata": {},
   "outputs": [],
   "source": [
    "import sys\n",
    "\n",
    "sys.path.append(os.path.abspath('../'))\n",
    "from utils import Metrics, plot_confusion_matrix\n",
    "from training_scripts.vit_model import ViTForImageClassification\n",
    "from training_scripts.vit_helpers import *"
   ]
  },
  {
   "cell_type": "code",
   "execution_count": 19,
   "metadata": {},
   "outputs": [],
   "source": [
    "device = torch.device('cuda' if torch.cuda.is_available() else 'cpu')\n",
    "\n",
    "keras_checker = InvarianceCheckerKeras()\n",
    "pytorch_checker = InvarianceCheckerPytorch()"
   ]
  },
  {
   "cell_type": "markdown",
   "metadata": {},
   "source": [
    "<br/>\n",
    "<br/>"
   ]
  },
  {
   "cell_type": "markdown",
   "metadata": {},
   "source": [
    "## Eurosat Data"
   ]
  },
  {
   "cell_type": "markdown",
   "metadata": {},
   "source": [
    "### ResNet"
   ]
  },
  {
   "cell_type": "code",
   "execution_count": 3,
   "metadata": {},
   "outputs": [
    {
     "name": "stderr",
     "output_type": "stream",
     "text": [
      "2024-06-07 13:05:48.341598: I metal_plugin/src/device/metal_device.cc:1154] Metal device set to: Apple M1 Pro\n",
      "2024-06-07 13:05:48.341619: I metal_plugin/src/device/metal_device.cc:296] systemMemory: 16.00 GB\n",
      "2024-06-07 13:05:48.341642: I metal_plugin/src/device/metal_device.cc:313] maxCacheSize: 5.33 GB\n",
      "2024-06-07 13:05:48.341711: I tensorflow/core/common_runtime/pluggable_device/pluggable_device_factory.cc:306] Could not identify NUMA node of platform GPU ID 0, defaulting to 0. Your kernel may not have been built with NUMA support.\n",
      "2024-06-07 13:05:48.341740: I tensorflow/core/common_runtime/pluggable_device/pluggable_device_factory.cc:272] Created TensorFlow device (/job:localhost/replica:0/task:0/device:GPU:0 with 0 MB memory) -> physical PluggableDevice (device: 0, name: METAL, pci bus id: <undefined>)\n"
     ]
    }
   ],
   "source": [
    "model_dir = \"../eurosat/ResNet\"\n",
    "eurosat_ResNet = tf.keras.models.load_model(\n",
    "    os.path.join(model_dir, \"17-0.94.keras\")\n",
    ")"
   ]
  },
  {
   "cell_type": "code",
   "execution_count": 4,
   "metadata": {},
   "outputs": [
    {
     "name": "stdout",
     "output_type": "stream",
     "text": [
      "Found 2700 images belonging to 10 classes.\n",
      "Found 2700 images belonging to 10 classes.\n"
     ]
    }
   ],
   "source": [
    "rotated_loader, normal_loader = keras_checker.transform_test_set(path = \"../eurosat/data/test\", image_size=(224,224,3), batch_size=128)"
   ]
  },
  {
   "cell_type": "code",
   "execution_count": 5,
   "metadata": {},
   "outputs": [
    {
     "name": "stdout",
     "output_type": "stream",
     "text": [
      "Rotated Testset:\n",
      "--------------------------------------------------\n"
     ]
    },
    {
     "name": "stderr",
     "output_type": "stream",
     "text": [
      "2024-06-07 13:05:55.858329: I tensorflow/core/grappler/optimizers/custom_graph_optimizer_registry.cc:117] Plugin optimizer for device_type GPU is enabled.\n"
     ]
    },
    {
     "name": "stdout",
     "output_type": "stream",
     "text": [
      "22/22 [==============================] - 21s 727ms/step\n",
      "Accuracy: 0.9274\n",
      "--------------------------------------------------\n",
      "--------------------------------------------------\n",
      "Normal Testset:\n",
      "--------------------------------------------------\n",
      "22/22 [==============================] - 11s 497ms/step\n",
      "Accuracy: 0.9437\n"
     ]
    }
   ],
   "source": [
    "rotated_predictions, normal_predictions = keras_checker.predict_models(model = eurosat_ResNet, rotated_testset=rotated_loader, normal_testset=normal_loader)"
   ]
  },
  {
   "cell_type": "code",
   "execution_count": 8,
   "metadata": {},
   "outputs": [
    {
     "name": "stdout",
     "output_type": "stream",
     "text": [
      "Invariance: 0.9356\n"
     ]
    }
   ],
   "source": [
    "result= keras_checker.calculate_invariance(rotated_predictions, normal_predictions)\n",
    "print(f\"Invariance: {result:.4f}\")"
   ]
  },
  {
   "cell_type": "markdown",
   "metadata": {},
   "source": [
    "### ViT"
   ]
  },
  {
   "cell_type": "code",
   "execution_count": 15,
   "metadata": {},
   "outputs": [],
   "source": [
    "vit_model = load_model(path = \"../eurosat/ViT/37_val_acc0.7911.pth\", model = ViTForImageClassification(10))"
   ]
  },
  {
   "cell_type": "code",
   "execution_count": 37,
   "metadata": {},
   "outputs": [
    {
     "name": "stdout",
     "output_type": "stream",
     "text": [
      "Rotated Testset:\n",
      "--------------------------------------------------\n"
     ]
    },
    {
     "name": "stderr",
     "output_type": "stream",
     "text": [
      "100%|██████████| 43/43 [02:39<00:00,  3.70s/it]\n"
     ]
    },
    {
     "name": "stdout",
     "output_type": "stream",
     "text": [
      "Validation Loss: 0.6224 | Accuracy: 0.7748\n",
      "--------------------------------------------------\n",
      "--------------------------------------------------\n",
      "Normal Testset:\n",
      "--------------------------------------------------\n"
     ]
    },
    {
     "name": "stderr",
     "output_type": "stream",
     "text": [
      "100%|██████████| 43/43 [02:39<00:00,  3.70s/it]"
     ]
    },
    {
     "name": "stdout",
     "output_type": "stream",
     "text": [
      "Validation Loss: 0.5922 | Accuracy: 0.7926\n"
     ]
    },
    {
     "name": "stderr",
     "output_type": "stream",
     "text": [
      "\n"
     ]
    }
   ],
   "source": [
    "_, _, test_rotated_loader, test_normal_loader = pytorch_checker.transform_test_set(path = \"../eurosat/data/test\")\n",
    "rotated_predictions, normal_predictions = pytorch_checker.predict_models(vit_model, test_rotated_loader=test_rotated_loader, test_normal_loader=test_normal_loader, device = device)"
   ]
  },
  {
   "cell_type": "code",
   "execution_count": 66,
   "metadata": {},
   "outputs": [],
   "source": [
    "class InvarianceCheckerPytorch:\n",
    "    def __init__(self) -> None:\n",
    "        self.rotated_transform = transforms.Compose([\n",
    "            transforms.Resize((224, 224)),\n",
    "            transforms.RandomChoice([\n",
    "                transforms.RandomRotation((90, 90)),\n",
    "                transforms.RandomRotation((180, 180)),\n",
    "                transforms.RandomRotation((270, 270))\n",
    "            ]),\n",
    "            transforms.ToTensor(),\n",
    "        ])\n",
    "        \n",
    "        self.normal_transform = transforms.Compose([\n",
    "            transforms.Resize((224, 224)),\n",
    "            transforms.ToTensor(),\n",
    "        ])\n",
    "    \n",
    "    def transform_test_set(self, path: str, batch_size: int = 64):\n",
    "        test_rotated_ds = datasets.ImageFolder(path, transform=self.rotated_transform)\n",
    "        test_normal_ds = datasets.ImageFolder(path, transform=self.normal_transform)\n",
    "        \n",
    "        test_rotated_loader = data.DataLoader(test_rotated_ds, batch_size=batch_size, shuffle=False, num_workers=4)\n",
    "        test_normal_loader = data.DataLoader(test_normal_ds, batch_size=batch_size, shuffle=False, num_workers=4)\n",
    "        \n",
    "        return test_rotated_ds, test_normal_ds, test_rotated_loader, test_normal_loader\n",
    "    \n",
    "    def predict_models(self, model, test_rotated_loader, test_normal_loader, device):\n",
    "        print(f\"Rotated Testset:\")\n",
    "        print(\"-\"* 50)\n",
    "        rotated_predictions = predict_testing(test_rotated_loader, model = model, device = device)\n",
    "        print(\"-\"* 50)\n",
    "        print(\"-\"* 50)\n",
    "        print(f\"Normal Testset:\")\n",
    "        print(\"-\"* 50)\n",
    "        normal_predictions = predict_testing(test_normal_loader, model = model, device = device)\n",
    "        \n",
    "        return rotated_predictions, normal_predictions\n",
    "    \n",
    "    def calculate_invariance(self, rotated_predictions, normal_predictions):\n",
    "        count = 0 \n",
    "        \n",
    "        for i, v in zip(rotated_predictions[0], normal_predictions[0]):\n",
    "            if i == v:\n",
    "                count += 1\n",
    "        return (count)/len(rotated_predictions) "
   ]
  },
  {
   "cell_type": "code",
   "execution_count": 77,
   "metadata": {},
   "outputs": [
    {
     "name": "stdout",
     "output_type": "stream",
     "text": [
      "Invariance: 0.8789\n"
     ]
    }
   ],
   "source": [
    "result = pytorch_checker.calculate_invariance(rotated_predictions, normal_predictions)\n",
    "print(f\"Invariance: {result:.4f}\")"
   ]
  },
  {
   "cell_type": "markdown",
   "metadata": {},
   "source": [
    "<br/>\n",
    "<br/>"
   ]
  },
  {
   "cell_type": "markdown",
   "metadata": {},
   "source": [
    "## Places Dataset"
   ]
  },
  {
   "cell_type": "markdown",
   "metadata": {},
   "source": [
    "### ResNet"
   ]
  },
  {
   "cell_type": "code",
   "execution_count": null,
   "metadata": {},
   "outputs": [],
   "source": [
    "model_dir = \"../places/ResNet/augment\"\n",
    "places_ResNet_augment = tf.keras.models.load_model(\n",
    "    os.path.join(model_dir, \"08-0.84.keras\")\n",
    ")\n",
    "\n",
    "model_dir = \"../places/ResNet/normal\"\n",
    "places_ResNet_normal = tf.keras.models.load_model(\n",
    "    os.path.join(model_dir, \"22-0.86.keras\")\n",
    ")"
   ]
  },
  {
   "cell_type": "markdown",
   "metadata": {},
   "source": [
    "### Resnet - Agumented"
   ]
  },
  {
   "cell_type": "code",
   "execution_count": 79,
   "metadata": {},
   "outputs": [
    {
     "name": "stdout",
     "output_type": "stream",
     "text": [
      "Found 6250 images belonging to 10 classes.\n",
      "Found 6250 images belonging to 10 classes.\n",
      "Rotated Testset:\n",
      "--------------------------------------------------\n",
      "49/49 [==============================] - 36s 621ms/step\n",
      "Accuracy: 0.8398\n",
      "--------------------------------------------------\n",
      "--------------------------------------------------\n",
      "Normal Testset:\n",
      "--------------------------------------------------\n",
      "49/49 [==============================] - 26s 524ms/step\n",
      "Accuracy: 0.8446\n"
     ]
    }
   ],
   "source": [
    "rotated_loader, normal_loader = keras_checker.transform_test_set(path = \"../places/data/test\", image_size=(224,224,3), batch_size=128)\n",
    "rotated_predictions, normal_predictions = keras_checker.predict_models(model = places_ResNet_augment, rotated_testset=rotated_loader, normal_testset=normal_loader)"
   ]
  },
  {
   "cell_type": "code",
   "execution_count": 80,
   "metadata": {},
   "outputs": [
    {
     "name": "stdout",
     "output_type": "stream",
     "text": [
      "Invariance: 0.8840\n"
     ]
    }
   ],
   "source": [
    "result= keras_checker.calculate_invariance(rotated_predictions, normal_predictions)\n",
    "print(f\"Invariance: {result:.4f}\")"
   ]
  },
  {
   "cell_type": "markdown",
   "metadata": {},
   "source": [
    "### Resnet - Normal"
   ]
  },
  {
   "cell_type": "code",
   "execution_count": 82,
   "metadata": {},
   "outputs": [
    {
     "name": "stdout",
     "output_type": "stream",
     "text": [
      "Found 6250 images belonging to 10 classes.\n",
      "Found 6250 images belonging to 10 classes.\n",
      "Rotated Testset:\n",
      "--------------------------------------------------\n",
      "49/49 [==============================] - 35s 614ms/step\n",
      "Accuracy: 0.4046\n",
      "--------------------------------------------------\n",
      "--------------------------------------------------\n",
      "Normal Testset:\n",
      "--------------------------------------------------\n",
      "49/49 [==============================] - 25s 521ms/step\n",
      "Accuracy: 0.8558\n"
     ]
    }
   ],
   "source": [
    "rotated_loader, normal_loader = keras_checker.transform_test_set(path = \"../places/data/test\", image_size=(224,224,3), batch_size=128)\n",
    "rotated_predictions, normal_predictions = keras_checker.predict_models(model = places_ResNet_normal, rotated_testset=rotated_loader, normal_testset=normal_loader)"
   ]
  },
  {
   "cell_type": "code",
   "execution_count": 83,
   "metadata": {},
   "outputs": [
    {
     "name": "stdout",
     "output_type": "stream",
     "text": [
      "Invariance: 0.4296\n"
     ]
    }
   ],
   "source": [
    "result= keras_checker.calculate_invariance(rotated_predictions, normal_predictions)\n",
    "print(f\"Invariance: {result:.4f}\")"
   ]
  }
 ],
 "metadata": {
  "kernelspec": {
   "display_name": "Python 3",
   "language": "python",
   "name": "python3"
  },
  "language_info": {
   "codemirror_mode": {
    "name": "ipython",
    "version": 3
   },
   "file_extension": ".py",
   "mimetype": "text/x-python",
   "name": "python",
   "nbconvert_exporter": "python",
   "pygments_lexer": "ipython3",
   "version": "3.11.5"
  }
 },
 "nbformat": 4,
 "nbformat_minor": 2
}
